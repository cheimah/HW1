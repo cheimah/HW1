{
 "cells": [
  {
   "cell_type": "code",
   "execution_count": 1,
   "metadata": {},
   "outputs": [],
   "source": [
    "%matplotlib inline\n",
    "\n",
    "import matplotlib.pyplot as plt\n",
    "import pandas as pd\n",
    "import numpy as np"
   ]
  },
  {
   "cell_type": "code",
   "execution_count": 3,
   "metadata": {
    "scrolled": true
   },
   "outputs": [],
   "source": [
    "#Read the dataset\n",
    "url = \"http://archive.ics.uci.edu/ml/machine-learning-databases/postoperative-patient-data/post-operative.names\"\n",
    "\"\"\"\n",
    "Attribute Information:\n",
    "     1. L-CORE (patient's internal temperature in C):\n",
    "              high (> 37), mid (>= 36 and <= 37), low (< 36)\n",
    "     2. L-SURF (patient's surface temperature in C):\n",
    "              high (> 36.5), mid (>= 36.5 and <= 35), low (< 35)\n",
    "     3. L-O2 (oxygen saturation in %):\n",
    "              excellent (>= 98), good (>= 90 and < 98),\n",
    "              fair (>= 80 and < 90), poor (< 80)\n",
    "     4. L-BP (last measurement of blood pressure):\n",
    "              high (> 130/90), mid (<= 130/90 and >= 90/70), low (< 90/70)\n",
    "     5. SURF-STBL (stability of patient's surface temperature):\n",
    "              stable, mod-stable, unstable\n",
    "     6. CORE-STBL (stability of patient's core temperature)\n",
    "              stable, mod-stable, unstable\n",
    "     7. BP-STBL (stability of patient's blood pressure)\n",
    "              stable, mod-stable, unstable\n",
    "     8. COMFORT (patient's perceived comfort at discharge, measured as\n",
    "              an integer between 0 and 20)\n",
    "     9. decision ADM-DECS (discharge decision):\n",
    "              I (patient sent to Intensive Care Unit),\n",
    "              S (patient prepared to go home),\n",
    "              A (patient sent to general hospital floor)\"\"\"\n",
    "\n",
    "names = ['L-core','L-surf', 'L-O2','L-BP','Surf-STBL','Core-STBL', 'BP-STBL', 'Confort', 'Decision']\n",
    "df = c = pd.read_csv(url, names = names, comment='#')"
   ]
  },
  {
   "cell_type": "code",
   "execution_count": 4,
   "metadata": {},
   "outputs": [],
   "source": [
    "#Explore the dataset using a plot to show the relationship between each one of the \n",
    "#categorical features and comfort. Interpret the results in a markdown cell "
   ]
  },
  {
   "cell_type": "code",
   "execution_count": 5,
   "metadata": {},
   "outputs": [
    {
     "data": {
      "text/plain": [
       "<Figure size 432x288 with 0 Axes>"
      ]
     },
     "metadata": {},
     "output_type": "display_data"
    },
    {
     "data": {
      "image/png": "[encoded data removed]",
      "text/plain": [
       "<Figure size 432x288 with 1 Axes>"
      ]
     },
     "metadata": {},
     "output_type": "display_data"
    }
   ],
   "source": [
    "plt.figure(); df.plot();"
   ]
  },
  {
   "cell_type": "code",
   "execution_count": null,
   "metadata": {},
   "outputs": [],
   "source": [
    "#Perform any necessary preprocessing steps: imputing missing value"
   ]
  },
  {
   "cell_type": "code",
   "execution_count": 10,
   "metadata": {},
   "outputs": [],
   "source": [
    "from io import StringIO\n",
    "from sklearn.preprocessing import Imputer"
   ]
  },
  {
   "cell_type": "code",
   "execution_count": 11,
   "metadata": {},
   "outputs": [
    {
     "ename": "NameError",
     "evalue": "name 'df' is not defined",
     "output_type": "error",
     "traceback": [
      "\u001b[1;31m---------------------------------------------------------------------------\u001b[0m",
      "\u001b[1;31mNameError\u001b[0m                                 Traceback (most recent call last)",
      "\u001b[1;32m<ipython-input-11-2d17f62314f9>\u001b[0m in \u001b[0;36m<module>\u001b[1;34m()\u001b[0m\n\u001b[0;32m      1\u001b[0m \u001b[0mimr\u001b[0m \u001b[1;33m=\u001b[0m \u001b[0mImputer\u001b[0m\u001b[1;33m(\u001b[0m\u001b[0mmissing_values\u001b[0m\u001b[1;33m=\u001b[0m\u001b[1;34m'0'\u001b[0m\u001b[1;33m,\u001b[0m \u001b[0mstrategy\u001b[0m\u001b[1;33m=\u001b[0m\u001b[1;34m'mean'\u001b[0m\u001b[1;33m,\u001b[0m \u001b[0maxis\u001b[0m\u001b[1;33m=\u001b[0m\u001b[1;36m0\u001b[0m\u001b[1;33m)\u001b[0m\u001b[1;33m\u001b[0m\u001b[0m\n\u001b[1;32m----> 2\u001b[1;33m \u001b[0mimr\u001b[0m \u001b[1;33m=\u001b[0m \u001b[0mimr\u001b[0m\u001b[1;33m.\u001b[0m\u001b[0mfit\u001b[0m\u001b[1;33m(\u001b[0m\u001b[0mdf\u001b[0m\u001b[1;33m)\u001b[0m\u001b[1;33m\u001b[0m\u001b[0m\n\u001b[0m\u001b[0;32m      3\u001b[0m \u001b[0mimputed_data\u001b[0m \u001b[1;33m=\u001b[0m \u001b[0mimr\u001b[0m\u001b[1;33m.\u001b[0m\u001b[0mtransform\u001b[0m\u001b[1;33m(\u001b[0m\u001b[0mdf\u001b[0m\u001b[1;33m.\u001b[0m\u001b[0mvalues\u001b[0m\u001b[1;33m)\u001b[0m\u001b[1;33m\u001b[0m\u001b[0m\n\u001b[0;32m      4\u001b[0m \u001b[0mimputed_data\u001b[0m\u001b[1;33m\u001b[0m\u001b[0m\n",
      "\u001b[1;31mNameError\u001b[0m: name 'df' is not defined"
     ]
    }
   ],
   "source": [
    "imr = Imputer(missing_values='0', strategy='mean', axis=0)\n",
    "imr = imr.fit(df)\n",
    "imputed_data = imr.transform(df.values)\n",
    "imputed_data"
   ]
  }
 ],
 "metadata": {
  "kernelspec": {
   "display_name": "Python 3",
   "language": "python",
   "name": "python3"
  },
  "language_info": {
   "codemirror_mode": {
    "name": "ipython",
    "version": 3
   },
   "file_extension": ".py",
   "mimetype": "text/x-python",
   "name": "python",
   "nbconvert_exporter": "python",
   "pygments_lexer": "ipython3",
   "version": "3.6.5"
  }
 },
 "nbformat": 4,
 "nbformat_minor": 2
}
